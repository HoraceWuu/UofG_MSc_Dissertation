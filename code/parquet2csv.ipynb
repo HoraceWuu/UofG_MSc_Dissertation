{
 "cells": [
  {
   "cell_type": "code",
   "execution_count": 1,
   "metadata": {},
   "outputs": [],
   "source": [
    "'''\n",
    "transform parquet to csv\n",
    "'''\n",
    "import pandas as pd\n",
    "import pyarrow.parquet as pq\n",
    "import os"
   ]
  },
  {
   "cell_type": "code",
   "execution_count": 2,
   "metadata": {},
   "outputs": [
    {
     "name": "stdout",
     "output_type": "stream",
     "text": [
      "finish: fhvhv_tripdata_2023-02.csv\n"
     ]
    }
   ],
   "source": [
    "# read parquet from path\n",
    "folder = '../data/odata/parquet/'\n",
    "files = os.listdir(folder)\n",
    "\n",
    "# transform parquet to csv\n",
    "for file in files:\n",
    "    if file.endswith('.parquet'):\n",
    "        df = pq.read_table(folder+file).to_pandas()\n",
    "        df.to_csv('../data/odata/csv/'+file[:-8]+'.csv', index=False)\n",
    "        print('finish: '+file[:-8]+'.csv')"
   ]
  }
 ],
 "metadata": {
  "kernelspec": {
   "display_name": "Python 3",
   "language": "python",
   "name": "python3"
  },
  "language_info": {
   "codemirror_mode": {
    "name": "ipython",
    "version": 3
   },
   "file_extension": ".py",
   "mimetype": "text/x-python",
   "name": "python",
   "nbconvert_exporter": "python",
   "pygments_lexer": "ipython3",
   "version": "3.10.6"
  },
  "orig_nbformat": 4,
  "vscode": {
   "interpreter": {
    "hash": "e7370f93d1d0cde622a1f8e1c04877d8463912d04d973331ad4851f04de6915a"
   }
  }
 },
 "nbformat": 4,
 "nbformat_minor": 2
}
